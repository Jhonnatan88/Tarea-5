{
 "cells": [
  {
   "cell_type": "code",
   "execution_count": 112,
   "id": "2314e754",
   "metadata": {},
   "outputs": [
    {
     "data": {
      "text/html": [
       "<iframe width=\"560\" height=\"315\" src=\"https://www.youtube.com/watch?v=Fb11hWES1BM&t=1s\" frameborder=\"0\" allowfullscreen></iframe>"
      ],
      "text/plain": [
       "<IPython.core.display.HTML object>"
      ]
     },
     "execution_count": 112,
     "metadata": {},
     "output_type": "execute_result"
    }
   ],
   "source": [
    "from IPython.display import HTML\n",
    "\n",
    "# Youtube\n",
    "HTML('<iframe width=\"560\" height=\"315\" src=\"https://www.youtube.com/watch?v=Fb11hWES1BM&t=1s\" frameborder=\"0\" allowfullscreen></iframe>')\n"
   ]
  },
  {
   "cell_type": "code",
   "execution_count": 14,
   "id": "1f72b79d",
   "metadata": {},
   "outputs": [],
   "source": [
    "import numpy as np"
   ]
  },
  {
   "cell_type": "markdown",
   "id": "eeb16d9a",
   "metadata": {},
   "source": [
    "# EJERCICIO 1\n",
    "\n",
    "\n",
    "ejercicio : en data science y programación científica es común necesitar vectores con valores dentro de cierto intervalo, pero con sub-intervalos internos con diference espaciamiento ,por ejemplo:\n",
    "\n",
    "[0. , 0.1 , 0.2 , 0.3 , 0.4 , 0.5 , 0.51, 0.52, 0.53, 0.54, 0.55, 0.56, 0.57, 0.58, 0.59, 0.6 , 0.7 , 0.8 , 0.9 , 1. ]\n",
    "\n",
    "El primer sub-intervalo incrementa de 0.1 en 0.1 , el segundo de 0.01 en 0.01 , y el tercero de 0.1 en 0.1 nuevamente.\n",
    "\n",
    "Usando unicamente NumPy crea un vector de este tipo con el nombre xs .\n",
    "\n",
    "nota: no es permitido usar ciclos, debe realizarse con operaciones \"vectorizadas\" de numpy"
   ]
  },
  {
   "cell_type": "code",
   "execution_count": 56,
   "id": "446a368c",
   "metadata": {},
   "outputs": [
    {
     "name": "stdout",
     "output_type": "stream",
     "text": [
      "[0.   0.1  0.2  0.3  0.4  0.5  0.51 0.52 0.53 0.54 0.55 0.56 0.57 0.58\n",
      " 0.59 0.6  0.7  0.8  0.9 ]\n"
     ]
    }
   ],
   "source": [
    "# tu codigo aqui (~ 5 lineas de codigo):\n",
    "\n",
    "a =  np.arange(0, 0.6, 0.1)\n",
    "b =  np.arange(0.51, 0.6, 0.01)\n",
    "c =  np.arange(0.6, 1, 0.1)\n",
    "\n",
    "#print(a)\n",
    "#print(b)\n",
    "#print(c)\n",
    "r = np.concatenate([a,b,c])\n",
    "print(r)\n",
    "\n",
    "\n"
   ]
  },
  {
   "cell_type": "markdown",
   "id": "256cdfd1",
   "metadata": {},
   "source": [
    "# Ejercicio 2"
   ]
  },
  {
   "cell_type": "code",
   "execution_count": 80,
   "id": "9881177b",
   "metadata": {},
   "outputs": [
    {
     "name": "stdout",
     "output_type": "stream",
     "text": [
      "[0.55919703 0.72065202 5.         ... 0.06591746 0.5646744  0.99056159] [0.55919703 0.72065202 5.         ... 0.06591746 0.5646744  0.99056159]\n"
     ]
    },
    {
     "data": {
      "image/png": "[encoded data removed]",
      "text/plain": [
       "<Figure size 432x288 with 1 Axes>"
      ]
     },
     "metadata": {
      "needs_background": "light"
     },
     "output_type": "display_data"
    }
   ],
   "source": [
    "# las siguientes 3 lineas generan un conjunto de datos que se comportan segun una onda senoidal pero tienen\n",
    "# ruido por lo cual vamos a suavizar usando promedio de 3 puntos\n",
    "# en este ejercicio los generamos manualmente pero pensemos que son datos que pudieron ser generados con algún\n",
    "# instrumento como un sensor, o bien estar almacenados en una base de datos\n",
    "sample_points = 10000\n",
    "inicio_intervalo = 0\n",
    "ruido = 0.5*np.random.randn(sample_points) #el ruido comunmente se debe a aleatoriedad o captura no exacta de info.\n",
    "x = np.linspace(inicio_intervalo,5*np.pi,sample_points) \n",
    "y = np.sin(x) + ruido\n",
    "\n",
    "#ys es \"y suavizado\", inicialmente es una copia de y\n",
    "ys =  y.copy()\n",
    "\n",
    "for n in range(1,len(y)-1): #5\n",
    "    ys[n] = (y[n-1] + y[n] + y[n+1])/3\n",
    "    \n",
    "    \n",
    "    \n",
    "#print(y)\n",
    "#print(ys)\n",
    "\n",
    "#*******************************************************************\n",
    "ys = y\n",
    "\n",
    "ys[2] = 5\n",
    "\n",
    "print(y,ys)\n",
    "\n",
    "\n",
    "#*******************************************************************\n",
    "\n",
    "plt.plot(x,y)\n",
    "plt.plot(x,ys)\n",
    "plt.xlim(inicio_intervalo,5*np.pi + 0.5)\n",
    "plt.show()"
   ]
  },
  {
   "cell_type": "markdown",
   "id": "5d9812c1",
   "metadata": {},
   "source": [
    "# RESULTADO"
   ]
  },
  {
   "cell_type": "code",
   "execution_count": 108,
   "id": "93eb4037",
   "metadata": {},
   "outputs": [
    {
     "name": "stdout",
     "output_type": "stream",
     "text": [
      "[0.55919703 0.72065202 5.         ... 0.06591746 0.5646744  0.99056159] [5.59197033e-01 1.44130403e+00 1.50000000e+01 ... 6.59042799e+02\n",
      " 5.64617933e+03 9.90561592e+03]\n"
     ]
    },
    {
     "data": {
      "image/png": "[encoded data removed]",
      "text/plain": [
       "<Figure size 432x288 with 1 Axes>"
      ]
     },
     "metadata": {
      "needs_background": "light"
     },
     "output_type": "display_data"
    }
   ],
   "source": [
    "n = np.arange(1,10001)\n",
    "#v1 = np.dot(y,[n-1])\n",
    "n_1 = n-1\n",
    "\n",
    "\n",
    "v_1 = ys*n_1\n",
    "\n",
    "#print(v_1)\n",
    "\n",
    "#len(v_1)\n",
    "\n",
    "\n",
    "n2 = np.arange(1,10001)\n",
    "#v1 = np.dot(y,[n-1])\n",
    "\n",
    "\n",
    "v_2 = ys*n2\n",
    "\n",
    "#print(v_2)\n",
    "\n",
    "#len(v_2)\n",
    "\n",
    "\n",
    "\n",
    "n3 = np.arange(1,10001)\n",
    "#v1 = np.dot(y,[n-1])\n",
    "n_3 = n3+1\n",
    "\n",
    "v_3 = ys*n_3\n",
    "\n",
    "#print(v_3)\n",
    "\n",
    "resultado = (v_1+v_2+v_3)/3\n",
    "\n",
    "print(y,resultado)\n",
    "\n",
    "\n",
    "plt.plot(x,y)\n",
    "plt.plot(x,resultado)\n",
    "plt.xlim(inicio_intervalo,5*np.pi + 0.5)\n",
    "plt.show()\n"
   ]
  },
  {
   "cell_type": "markdown",
   "id": "2231f3f9",
   "metadata": {},
   "source": [
    "# Ejercicio 3"
   ]
  },
  {
   "cell_type": "markdown",
   "id": "0d80651b",
   "metadata": {},
   "source": [
    "Ejercicio Para calcular la información de una distribución de probabilidad necesitamos calcular el producto entre la información de cada posible x y su probabilidad , cada uno de estos elementos nos indica cuanta incerteza aporta cada x a la entropía de la distribución. Crea una función que calcule esto, debe recibir un vector representando a la dist. de probabilidad y devoler otro vector con el termino de entropía para cada x. Por ejemplo:\n",
    "\n",
    "calcular_entropia([0.25,0.75])\n",
    "\n",
    "Debe resultar en :\n",
    "\n",
    "[0.5 , 0.31127812]\n",
    "\n",
    "Nota: la entropía es la suma sobre estos valores, en este caso no calculamos la entropía,unicamente los termimos de su sumatoria. La entropía es:\n",
    "\n",
    "S=−∑inP(xi)log2P(xi) \n",
    "\n"
   ]
  },
  {
   "cell_type": "code",
   "execution_count": 116,
   "id": "a0d02985",
   "metadata": {},
   "outputs": [
    {
     "name": "stdout",
     "output_type": "stream",
     "text": [
      "[0.5        0.31127812]\n"
     ]
    }
   ],
   "source": [
    "def calcular_informacion(px):\n",
    "    return (px)*-np.log2(px) # teoría de la información\n",
    "\n",
    "distribucion_prob1 = [0.25,0.75]\n",
    "\n",
    "print(calcular_informacion(distribucion_prob1))"
   ]
  },
  {
   "cell_type": "markdown",
   "id": "bc27081a",
   "metadata": {},
   "source": [
    "Ejercicio Usando argmax crear una función mode(x) para calcular la moda de un vector x , esta función debe devolver una tupla de 2 elementos de la forma:\n",
    "\n",
    "(valor,conteo)\n",
    "\n",
    "tip investigar y auxiliarse de otras funciones de numpy y np.argmax, no olvidar trabajar todo vectorizado, sin ciclos."
   ]
  },
  {
   "cell_type": "markdown",
   "id": "31781be7",
   "metadata": {},
   "source": [
    "# Ejercicio 4"
   ]
  },
  {
   "cell_type": "markdown",
   "id": "f3ffc39b",
   "metadata": {},
   "source": [
    "Ejercicio : se ha determinado también que hay costos asociados a la comunicación y relación con los clientes(llamadas,mensajes electrónicos,etc) y que estos también tienen alta correlación con el monto que estos gastan en su primer més siguiendo el modelo:\n",
    "c(x)=(x2+x+log(0.0001x)−0.54x−−−−−√)/100 \n",
    "\n",
    "Cree una función para calcular este modelo sobre valores de de gasto de nuevos clientes , y luego cree una función ganancia_neta(x,g,c) donde:\n",
    "\n",
    "x = vector conteniendo los valores de gasto del primer mes para nuevos clientes.\n",
    "g = función que estima la ganancia en función de x\n",
    "c = función que estima el costo en función de x\n",
    "La función realiza el calculo simple g(x) - c(x) , ya que es posible que los modelos cambien en el tiempo es común recibir como parámetro el modelo o modelos hijos de un modelo mas grande , en este caso eso se logra recibiendo como parámetro las funciones de ganancia y costo."
   ]
  },
  {
   "cell_type": "code",
   "execution_count": 131,
   "id": "fdfcc9f0",
   "metadata": {},
   "outputs": [
    {
     "name": "stdout",
     "output_type": "stream",
     "text": [
      "[7.40497943]\n"
     ]
    }
   ],
   "source": [
    "\n",
    "\n",
    "def ganancia2(x):\n",
    "  return np.power(x,2)\n",
    "\n",
    "def costos(x):\n",
    "  return np.exp(x)+x+np.log(0.0001*x)+ np.sqrt(0.54*x)\n",
    "\n",
    "\n",
    "def ganancia_neta(x,g,c):\n",
    "  return g(x) - c(x)\n",
    "\n",
    "x_1 = np.random.rand(1)\n",
    "\n",
    "\n",
    "print(ganancia_neta(x_1,ganancia2,costos))"
   ]
  },
  {
   "cell_type": "markdown",
   "id": "cf03d8da",
   "metadata": {},
   "source": [
    "# Ejercicio 5"
   ]
  },
  {
   "cell_type": "markdown",
   "id": "2a12234a",
   "metadata": {},
   "source": [
    "ejercicio : crear una función que reciba como parámetro un vector x y calcule su magnitud o norma(euclidiana o L2) ,luego usarla para evaluar 2 vectores que representan los errores generados por 2 modelos de machine learning y concluir cual de los 2 modelos es mejor.\n",
    "\n"
   ]
  },
  {
   "cell_type": "code",
   "execution_count": 141,
   "id": "d66f9f3f",
   "metadata": {},
   "outputs": [
    {
     "name": "stdout",
     "output_type": "stream",
     "text": [
      "10\n",
      "6\n",
      "El mejor modelo es el modelo 2 con  6  errores\n"
     ]
    }
   ],
   "source": [
    "def magnitud(x):\n",
    "    ## tu codigo aqui (~ 1 linea de codigo)\n",
    "    return np.sum(np.power(x,2)) # raiz cuadrada\n",
    "\n",
    "errores_modelo1 = np.array([1,2,1,2]) #\n",
    "errores_modelo2 = np.array([0,1,1,2]) #\n",
    "\n",
    "print(magnitud(errores_modelo1))\n",
    "print(magnitud(errores_modelo2))\n",
    "\n",
    "a_1 = magnitud(errores_modelo1)\n",
    "b_1 = magnitud(errores_modelo2)\n",
    "\n",
    "\n",
    "# elegir el mejor modelo con una condicional(if)\n",
    "\n",
    "\n",
    "if a_1  > b_1 :\n",
    "    print(\"El mejor modelo es el modelo 2 con \",b_1, \" errores\")\n",
    "else:\n",
    "    print(\"El mejor modelo es el modelo 1 con \",a_1, \" errores\")\n",
    "    "
   ]
  },
  {
   "cell_type": "markdown",
   "id": "ae87aef7",
   "metadata": {},
   "source": [
    "# Ejercicio 6"
   ]
  },
  {
   "cell_type": "markdown",
   "id": "bcd7169f",
   "metadata": {},
   "source": [
    "Ejercicio dado el vector x, usar operadores lógicos sobre vectores y acceso a elementos usando vectores booleanos , escribir un programa que calcule eun nuevo vector z conteniendo el valor absoluto de el vector x.\n",
    "\n",
    "nota No se puede usar np.abs() ni ciclos\n",
    "\n",
    "tip usar un vector booleano para saber que elementos son negativos y deben ser multiplicados por -1"
   ]
  },
  {
   "cell_type": "code",
   "execution_count": 155,
   "id": "2fdffcfc",
   "metadata": {},
   "outputs": [
    {
     "name": "stdout",
     "output_type": "stream",
     "text": [
      "1.0\n",
      "[0.31622777 0.63245553 0.31622777 0.63245553]\n"
     ]
    }
   ],
   "source": [
    "def normalizar(x):\n",
    "    ## tu codigo aqui (~ 1 linea de codigo)\n",
    "    #return np.sum(np.power(x,2)/np.sqrt(0.54*x)) # raiz cuadrada\n",
    "    #return x.apply(lambda x: (x-x.mean())/ x.std(), axis=0)\n",
    "    return x/(np.linalg.norm(x))\n",
    "\n",
    "print(magnitud(normalizar(errores_modelo1)))\n",
    "print(normalizar(errores_modelo1))\n",
    "\n",
    "# elegir el mejor modelo con una condicional(if)\n"
   ]
  },
  {
   "cell_type": "markdown",
   "id": "6a2aae61",
   "metadata": {},
   "source": [
    "# Ejercicio 7"
   ]
  },
  {
   "cell_type": "code",
   "execution_count": 163,
   "id": "d9211e9d",
   "metadata": {},
   "outputs": [
    {
     "name": "stdout",
     "output_type": "stream",
     "text": [
      "[-0.03125081  0.29318967  0.16114906]\n",
      "[0.         3.14159265 6.28318531]\n",
      "0.14102930586339318\n"
     ]
    },
    {
     "data": {
      "image/png": "[encoded data removed]",
      "text/plain": [
       "<Figure size 432x288 with 1 Axes>"
      ]
     },
     "metadata": {
      "needs_background": "light"
     },
     "output_type": "display_data"
    }
   ],
   "source": [
    "ruido = 0.1*np.random.randn(3) #el ruido comunmente se debe a aleatoriedad o captura no exacta de info.\n",
    "x = np.linspace(0,2*np.pi,3) \n",
    "y = np.sin(x) + ruido\n",
    "\n",
    "filtro = np.array([1/3,1/3,1/3]) #para lograr las medias moviles a traves de correlacion cruzada\n",
    "\n",
    "## tu codigo aqui (~ 3 linea de codigo)\n",
    "\n",
    "#print(ruido)\n",
    "print(y)\n",
    "print(x)\n",
    "\n",
    "producto = np.dot(y,filtro)\n",
    "\n",
    "print(producto)\n",
    "\n",
    "\n",
    "\n",
    "\n"
   ]
  },
  {
   "cell_type": "code",
   "execution_count": null,
   "id": "a3fed14f",
   "metadata": {},
   "outputs": [],
   "source": []
  }
 ],
 "metadata": {
  "kernelspec": {
   "display_name": "Python 3 (ipykernel)",
   "language": "python",
   "name": "python3"
  },
  "language_info": {
   "codemirror_mode": {
    "name": "ipython",
    "version": 3
   },
   "file_extension": ".py",
   "mimetype": "text/x-python",
   "name": "python",
   "nbconvert_exporter": "python",
   "pygments_lexer": "ipython3",
   "version": "3.9.7"
  }
 },
 "nbformat": 4,
 "nbformat_minor": 5
}
